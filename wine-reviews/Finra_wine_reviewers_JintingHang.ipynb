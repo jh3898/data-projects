{
 "cells": [
  {
   "cell_type": "markdown",
   "metadata": {},
   "source": [
    "# Finra Project: Wine reviews\n",
    " * by Jinting Hang"
   ]
  },
  {
   "cell_type": "markdown",
   "metadata": {},
   "source": [
    "Questions:\n",
    "1. find the pair which has the moest similar distribution of in items of points\n",
    "2. compute the word frequency and identify words that differentiate classes the most\n",
    "3. Build a text classifier using Naive Bayes \n",
    "4. derive TFIDF matrix of wine reviewers given any taster and further compute similarity matrix\n",
    "5. identify the taster that has the most similar style of wine reviews"
   ]
  },
  {
   "cell_type": "markdown",
   "metadata": {},
   "source": [
    "# Index\n",
    "* [Answer question 1](#Answer-question-1)\n",
    "* [Answer question 2](#Answer-question-2)\n",
    "* [Answer question 3](#Answer-question-3)\n",
    "* [Answer question 4](#Answer-question-4)\n",
    "* [Answer question 5](#Answer-question-5)"
   ]
  },
  {
   "cell_type": "code",
   "execution_count": 396,
   "metadata": {},
   "outputs": [],
   "source": [
    "import numpy as np\n",
    "import pandas as pd\n",
    "import re\n",
    "from itertools import permutations \n",
    "from sklearn.model_selection import train_test_split\n",
    "from sklearn.metrics import classification_report\n",
    "from sklearn.preprocessing import normalize\n",
    "from scipy.stats import f\n",
    "from collections import Counter\n",
    "import matplotlib.pyplot as plt\n",
    "plt.style.use('ggplot')\n",
    "%matplotlib inline"
   ]
  },
  {
   "cell_type": "code",
   "execution_count": 397,
   "metadata": {},
   "outputs": [
    {
     "data": {
      "text/html": [
       "<div>\n",
       "<style scoped>\n",
       "    .dataframe tbody tr th:only-of-type {\n",
       "        vertical-align: middle;\n",
       "    }\n",
       "\n",
       "    .dataframe tbody tr th {\n",
       "        vertical-align: top;\n",
       "    }\n",
       "\n",
       "    .dataframe thead th {\n",
       "        text-align: right;\n",
       "    }\n",
       "</style>\n",
       "<table border=\"1\" class=\"dataframe\">\n",
       "  <thead>\n",
       "    <tr style=\"text-align: right;\">\n",
       "      <th></th>\n",
       "      <th>Unnamed: 0</th>\n",
       "      <th>country</th>\n",
       "      <th>description</th>\n",
       "      <th>designation</th>\n",
       "      <th>points</th>\n",
       "      <th>price</th>\n",
       "      <th>province</th>\n",
       "      <th>region_1</th>\n",
       "      <th>region_2</th>\n",
       "      <th>taster_name</th>\n",
       "      <th>taster_twitter_handle</th>\n",
       "      <th>title</th>\n",
       "      <th>variety</th>\n",
       "      <th>winery</th>\n",
       "    </tr>\n",
       "  </thead>\n",
       "  <tbody>\n",
       "    <tr>\n",
       "      <th>0</th>\n",
       "      <td>0</td>\n",
       "      <td>Italy</td>\n",
       "      <td>Aromas include tropical fruit, broom, brimston...</td>\n",
       "      <td>Vulkà Bianco</td>\n",
       "      <td>87</td>\n",
       "      <td>NaN</td>\n",
       "      <td>Sicily &amp; Sardinia</td>\n",
       "      <td>Etna</td>\n",
       "      <td>NaN</td>\n",
       "      <td>Kerin O’Keefe</td>\n",
       "      <td>@kerinokeefe</td>\n",
       "      <td>Nicosia 2013 Vulkà Bianco  (Etna)</td>\n",
       "      <td>White Blend</td>\n",
       "      <td>Nicosia</td>\n",
       "    </tr>\n",
       "    <tr>\n",
       "      <th>1</th>\n",
       "      <td>1</td>\n",
       "      <td>Portugal</td>\n",
       "      <td>This is ripe and fruity, a wine that is smooth...</td>\n",
       "      <td>Avidagos</td>\n",
       "      <td>87</td>\n",
       "      <td>15.0</td>\n",
       "      <td>Douro</td>\n",
       "      <td>NaN</td>\n",
       "      <td>NaN</td>\n",
       "      <td>Roger Voss</td>\n",
       "      <td>@vossroger</td>\n",
       "      <td>Quinta dos Avidagos 2011 Avidagos Red (Douro)</td>\n",
       "      <td>Portuguese Red</td>\n",
       "      <td>Quinta dos Avidagos</td>\n",
       "    </tr>\n",
       "    <tr>\n",
       "      <th>2</th>\n",
       "      <td>2</td>\n",
       "      <td>US</td>\n",
       "      <td>Tart and snappy, the flavors of lime flesh and...</td>\n",
       "      <td>NaN</td>\n",
       "      <td>87</td>\n",
       "      <td>14.0</td>\n",
       "      <td>Oregon</td>\n",
       "      <td>Willamette Valley</td>\n",
       "      <td>Willamette Valley</td>\n",
       "      <td>Paul Gregutt</td>\n",
       "      <td>@paulgwine</td>\n",
       "      <td>Rainstorm 2013 Pinot Gris (Willamette Valley)</td>\n",
       "      <td>Pinot Gris</td>\n",
       "      <td>Rainstorm</td>\n",
       "    </tr>\n",
       "    <tr>\n",
       "      <th>3</th>\n",
       "      <td>3</td>\n",
       "      <td>US</td>\n",
       "      <td>Pineapple rind, lemon pith and orange blossom ...</td>\n",
       "      <td>Reserve Late Harvest</td>\n",
       "      <td>87</td>\n",
       "      <td>13.0</td>\n",
       "      <td>Michigan</td>\n",
       "      <td>Lake Michigan Shore</td>\n",
       "      <td>NaN</td>\n",
       "      <td>Alexander Peartree</td>\n",
       "      <td>NaN</td>\n",
       "      <td>St. Julian 2013 Reserve Late Harvest Riesling ...</td>\n",
       "      <td>Riesling</td>\n",
       "      <td>St. Julian</td>\n",
       "    </tr>\n",
       "    <tr>\n",
       "      <th>4</th>\n",
       "      <td>4</td>\n",
       "      <td>US</td>\n",
       "      <td>Much like the regular bottling from 2012, this...</td>\n",
       "      <td>Vintner's Reserve Wild Child Block</td>\n",
       "      <td>87</td>\n",
       "      <td>65.0</td>\n",
       "      <td>Oregon</td>\n",
       "      <td>Willamette Valley</td>\n",
       "      <td>Willamette Valley</td>\n",
       "      <td>Paul Gregutt</td>\n",
       "      <td>@paulgwine</td>\n",
       "      <td>Sweet Cheeks 2012 Vintner's Reserve Wild Child...</td>\n",
       "      <td>Pinot Noir</td>\n",
       "      <td>Sweet Cheeks</td>\n",
       "    </tr>\n",
       "  </tbody>\n",
       "</table>\n",
       "</div>"
      ],
      "text/plain": [
       "   Unnamed: 0   country                                        description  \\\n",
       "0           0     Italy  Aromas include tropical fruit, broom, brimston...   \n",
       "1           1  Portugal  This is ripe and fruity, a wine that is smooth...   \n",
       "2           2        US  Tart and snappy, the flavors of lime flesh and...   \n",
       "3           3        US  Pineapple rind, lemon pith and orange blossom ...   \n",
       "4           4        US  Much like the regular bottling from 2012, this...   \n",
       "\n",
       "                          designation  points  price           province  \\\n",
       "0                        Vulkà Bianco      87    NaN  Sicily & Sardinia   \n",
       "1                            Avidagos      87   15.0              Douro   \n",
       "2                                 NaN      87   14.0             Oregon   \n",
       "3                Reserve Late Harvest      87   13.0           Michigan   \n",
       "4  Vintner's Reserve Wild Child Block      87   65.0             Oregon   \n",
       "\n",
       "              region_1           region_2         taster_name  \\\n",
       "0                 Etna                NaN       Kerin O’Keefe   \n",
       "1                  NaN                NaN          Roger Voss   \n",
       "2    Willamette Valley  Willamette Valley        Paul Gregutt   \n",
       "3  Lake Michigan Shore                NaN  Alexander Peartree   \n",
       "4    Willamette Valley  Willamette Valley        Paul Gregutt   \n",
       "\n",
       "  taster_twitter_handle                                              title  \\\n",
       "0          @kerinokeefe                  Nicosia 2013 Vulkà Bianco  (Etna)   \n",
       "1            @vossroger      Quinta dos Avidagos 2011 Avidagos Red (Douro)   \n",
       "2           @paulgwine       Rainstorm 2013 Pinot Gris (Willamette Valley)   \n",
       "3                   NaN  St. Julian 2013 Reserve Late Harvest Riesling ...   \n",
       "4           @paulgwine   Sweet Cheeks 2012 Vintner's Reserve Wild Child...   \n",
       "\n",
       "          variety               winery  \n",
       "0     White Blend              Nicosia  \n",
       "1  Portuguese Red  Quinta dos Avidagos  \n",
       "2      Pinot Gris            Rainstorm  \n",
       "3        Riesling           St. Julian  \n",
       "4      Pinot Noir         Sweet Cheeks  "
      ]
     },
     "execution_count": 397,
     "metadata": {},
     "output_type": "execute_result"
    }
   ],
   "source": [
    "df_reviews = pd.read_csv('winemag-data-130k-v2.csv')\n",
    "df_reviews.head()"
   ]
  },
  {
   "cell_type": "markdown",
   "metadata": {},
   "source": [
    "## Answer question 1\n",
    "* find the pair which has the moest similar distribution of in items of points\n"
   ]
  },
  {
   "cell_type": "code",
   "execution_count": 3,
   "metadata": {},
   "outputs": [],
   "source": [
    "df_reviews = df_reviews.dropna()"
   ]
  },
  {
   "cell_type": "code",
   "execution_count": 5,
   "metadata": {},
   "outputs": [
    {
     "data": {
      "text/plain": [
       "183"
      ]
     },
     "execution_count": 5,
     "metadata": {},
     "output_type": "execute_result"
    }
   ],
   "source": [
    "len(df_reviews['variety'].unique())"
   ]
  },
  {
   "cell_type": "code",
   "execution_count": 69,
   "metadata": {},
   "outputs": [
    {
     "data": {
      "text/plain": [
       "variety            points\n",
       "Abouriou           85          1\n",
       "Aglianico          92          2\n",
       "                   86          1\n",
       "Albariño           87         13\n",
       "                   88          6\n",
       "                   90          6\n",
       "                   89          5\n",
       "                   91          4\n",
       "                   86          3\n",
       "                   92          3\n",
       "                   84          2\n",
       "                   82          1\n",
       "                   85          1\n",
       "                   93          1\n",
       "Alicante Bouschet  87          1\n",
       "                   88          1\n",
       "                   90          1\n",
       "                   91          1\n",
       "Aligoté            87          2\n",
       "Alvarelhão         85          1\n",
       "Arneis             88          1\n",
       "                   90          1\n",
       "Auxerrois          90          4\n",
       "                   89          1\n",
       "Baco Noir          87          1\n",
       "Barbera            89         23\n",
       "                   90         23\n",
       "                   88         16\n",
       "                   91         14\n",
       "                   86         10\n",
       "                            ... \n",
       "White Blend        83         11\n",
       "                   84         10\n",
       "                   93          5\n",
       "                   94          4\n",
       "                   95          2\n",
       "                   80          1\n",
       "                   82          1\n",
       "White Riesling     88          1\n",
       "                   96          1\n",
       "Zinfandel          90        195\n",
       "                   88        138\n",
       "                   91        129\n",
       "                   87        127\n",
       "                   92        107\n",
       "                   89         87\n",
       "                   86         82\n",
       "                   85         65\n",
       "                   93         63\n",
       "                   84         35\n",
       "                   94         25\n",
       "                   83         23\n",
       "                   82         18\n",
       "                   95          8\n",
       "                   80          6\n",
       "                   81          3\n",
       "                   96          2\n",
       "                   97          1\n",
       "Zweigelt           90          2\n",
       "                   87          1\n",
       "                   88          1\n",
       "Name: points, Length: 981, dtype: int64"
      ]
     },
     "execution_count": 69,
     "metadata": {},
     "output_type": "execute_result"
    }
   ],
   "source": [
    "df_reviews.groupby(['variety'])['points'].value_counts()"
   ]
  },
  {
   "cell_type": "code",
   "execution_count": 108,
   "metadata": {},
   "outputs": [],
   "source": [
    "def similar_distribution_adv(df):\n",
    "    X= df['points'].value_counts()\n",
    "    return pd.Series({'Variance': X.var(), 'length':len(X)})"
   ]
  },
  {
   "cell_type": "code",
   "execution_count": 109,
   "metadata": {},
   "outputs": [],
   "source": [
    "df_variety_distribution = df_reviews.groupby(['variety']).apply(similar_distribution_adv)"
   ]
  },
  {
   "cell_type": "code",
   "execution_count": 120,
   "metadata": {},
   "outputs": [],
   "source": [
    "df_variety_distribution.dropna(inplace = True)\n",
    "df_variety_distribution = df_variety_distribution.loc[df_variety_distribution['Variance'] != 0]"
   ]
  },
  {
   "cell_type": "code",
   "execution_count": 121,
   "metadata": {},
   "outputs": [
    {
     "data": {
      "text/html": [
       "<div>\n",
       "<style scoped>\n",
       "    .dataframe tbody tr th:only-of-type {\n",
       "        vertical-align: middle;\n",
       "    }\n",
       "\n",
       "    .dataframe tbody tr th {\n",
       "        vertical-align: top;\n",
       "    }\n",
       "\n",
       "    .dataframe thead th {\n",
       "        text-align: right;\n",
       "    }\n",
       "</style>\n",
       "<table border=\"1\" class=\"dataframe\">\n",
       "  <thead>\n",
       "    <tr style=\"text-align: right;\">\n",
       "      <th></th>\n",
       "      <th>Variance</th>\n",
       "      <th>length</th>\n",
       "    </tr>\n",
       "    <tr>\n",
       "      <th>variety</th>\n",
       "      <th></th>\n",
       "      <th></th>\n",
       "    </tr>\n",
       "  </thead>\n",
       "  <tbody>\n",
       "    <tr>\n",
       "      <th>Aglianico</th>\n",
       "      <td>0.500000</td>\n",
       "      <td>2.0</td>\n",
       "    </tr>\n",
       "    <tr>\n",
       "      <th>Albariño</th>\n",
       "      <td>12.290909</td>\n",
       "      <td>11.0</td>\n",
       "    </tr>\n",
       "    <tr>\n",
       "      <th>Auxerrois</th>\n",
       "      <td>4.500000</td>\n",
       "      <td>2.0</td>\n",
       "    </tr>\n",
       "    <tr>\n",
       "      <th>Barbera</th>\n",
       "      <td>69.072727</td>\n",
       "      <td>11.0</td>\n",
       "    </tr>\n",
       "    <tr>\n",
       "      <th>Blaufränkisch</th>\n",
       "      <td>0.200000</td>\n",
       "      <td>5.0</td>\n",
       "    </tr>\n",
       "  </tbody>\n",
       "</table>\n",
       "</div>"
      ],
      "text/plain": [
       "                Variance  length\n",
       "variety                         \n",
       "Aglianico       0.500000     2.0\n",
       "Albariño       12.290909    11.0\n",
       "Auxerrois       4.500000     2.0\n",
       "Barbera        69.072727    11.0\n",
       "Blaufränkisch   0.200000     5.0"
      ]
     },
     "execution_count": 121,
     "metadata": {},
     "output_type": "execute_result"
    }
   ],
   "source": [
    "df_variety_distribution.head()"
   ]
  },
  {
   "cell_type": "code",
   "execution_count": 393,
   "metadata": {},
   "outputs": [],
   "source": [
    "alpha = 0.05 # threshold value to test whether two have equal variance."
   ]
  },
  {
   "cell_type": "code",
   "execution_count": 212,
   "metadata": {},
   "outputs": [],
   "source": [
    "# Get all permutations of length 2 \n",
    "# calculate p_value based on ftest to see which pair has the smallest pvalue, normally if the pvalue id smaller than\n",
    "#0.5, we can accept the hypothesis that two groups have the same variance, otherwise we reject the hypothesis. \n",
    "\n",
    "def most_similar_pair(DF):\n",
    "    ind = DF.index\n",
    "    perm = permutations(ind, 2) \n",
    "    similar_pair = []\n",
    "    minp = 1 << 30\n",
    "    for a, b in perm:\n",
    "        #print('a:',a,'b:', b, DF.loc[a, 'Variance'])\n",
    "        F = DF.loc[a, 'Variance'] / DF.loc[b, 'Variance']\n",
    "        df1, df2 = DF.loc[a, 'length'], DF.loc[b, 'length']\n",
    "        p_value = f.cdf(F, df1, df2)\n",
    "        if p_value < minp:\n",
    "            similar_pair = [a, b]\n",
    "            minp = p_value\n",
    "    return similar_pair, p_value\n"
   ]
  },
  {
   "cell_type": "code",
   "execution_count": 215,
   "metadata": {},
   "outputs": [
    {
     "data": {
      "text/plain": [
       "(['Fumé Blanc', 'Pinot Noir'], 1.4019283822650899e-06)"
      ]
     },
     "execution_count": 215,
     "metadata": {},
     "output_type": "execute_result"
    }
   ],
   "source": [
    "similar_pair, pvalue = most_similar_pair(df_variety_distribution)\n",
    "similar_pair, pvalue"
   ]
  },
  {
   "cell_type": "code",
   "execution_count": 216,
   "metadata": {},
   "outputs": [
    {
     "data": {
      "image/png": "[encoded data removed]",
      "text/plain": [
       "<Figure size 864x576 with 2 Axes>"
      ]
     },
     "metadata": {
      "needs_background": "light"
     },
     "output_type": "display_data"
    }
   ],
   "source": [
    "# plot out the most similar distribution in in terms of points\n",
    "def plot_similar_pair(df, similar_pair):\n",
    "    plt.figure(figsize = (12, 8))\n",
    "    plt.subplot(211)\n",
    "    df_test = df.loc[df['variety'] ==  similar_pair[0], 'points']\n",
    "    df_test.hist(bins = 50)\n",
    "    plt.subplot(212)\n",
    "    df_test = df.loc[df['variety'] ==  similar_pair[1], 'points']\n",
    "    df_test.hist(bins = 50)\n",
    "plot_similar_pair(df_reviews, similar_pair)"
   ]
  },
  {
   "cell_type": "markdown",
   "metadata": {},
   "source": [
    "### We have chosen the pair group which has the smallest pvalue as having the most similar distribution."
   ]
  },
  {
   "cell_type": "markdown",
   "metadata": {},
   "source": [
    "# Answer question 2 \n",
    "* compute the word frequency and identify words that differentiate classes the most"
   ]
  },
  {
   "cell_type": "code",
   "execution_count": 407,
   "metadata": {},
   "outputs": [],
   "source": [
    "df_reviews['class']  = 0\n",
    "df_reviews.loc[df_reviews['points'] > 90, 'class'] = 1"
   ]
  },
  {
   "cell_type": "code",
   "execution_count": 408,
   "metadata": {},
   "outputs": [
    {
     "data": {
      "text/plain": [
       "0    96336\n",
       "1    33635\n",
       "Name: class, dtype: int64"
      ]
     },
     "execution_count": 408,
     "metadata": {},
     "output_type": "execute_result"
    }
   ],
   "source": [
    "df_reviews['class'].value_counts()"
   ]
  },
  {
   "cell_type": "code",
   "execution_count": 409,
   "metadata": {},
   "outputs": [],
   "source": [
    "df_reviews['description'] = df_reviews['description'] + ' '"
   ]
  },
  {
   "cell_type": "code",
   "execution_count": 413,
   "metadata": {},
   "outputs": [],
   "source": [
    "# analyze the frequency of words for each description\n",
    "def extract_frequency(df):   \n",
    "    #extract = Counter([re.sub(r'[^\\w]', ' ', c) for c in df['description'].sum().split()])\n",
    "    extract = Counter([c.strip(\"',.() \").replace(\" \" \" \", \"\") for c in df['description'].sum().strip(\" ' \").split()])\n",
    "    return pd.Series(extract)"
   ]
  },
  {
   "cell_type": "code",
   "execution_count": null,
   "metadata": {},
   "outputs": [],
   "source": [
    "frequency_word = df_reviews.groupby(['class']).apply(extract_frequency).unstack(level = 0)"
   ]
  },
  {
   "cell_type": "code",
   "execution_count": null,
   "metadata": {},
   "outputs": [],
   "source": [
    "df_reviews_test = df_reviews.iloc[0: 2000]\n",
    "frequency_word_test = df_reviews_test.groupby(['class']).apply(extract_frequency).unstack(level = 0)"
   ]
  },
  {
   "cell_type": "code",
   "execution_count": null,
   "metadata": {},
   "outputs": [],
   "source": [
    "frequency_word_test.iloc[:50]"
   ]
  },
  {
   "cell_type": "code",
   "execution_count": 229,
   "metadata": {},
   "outputs": [],
   "source": [
    "frequency_word.fillna(0, inplace = True)"
   ]
  },
  {
   "cell_type": "code",
   "execution_count": 398,
   "metadata": {},
   "outputs": [],
   "source": [
    "# choose the most frequent 50 words for each class \n",
    "def distint_words(df):\n",
    "    class_0_freq_words = df.sort_values(by = 0, ascending = False).iloc[0:50].index\n",
    "    class_1_freq_words = df.sort_values(by = 1, ascending = False).iloc[0:50].index\n",
    "    # use a set intersection to find out the distint words for each class\n",
    "    return set(class_0_freq_words) - set(class_1_freq_words), set(class_1_freq_words) - set(class_0_freq_words)"
   ]
  },
  {
   "cell_type": "code",
   "execution_count": 400,
   "metadata": {},
   "outputs": [
    {
     "data": {
      "text/plain": [
       "({'Sauvignon', 'apple', 'has', 'light', 'offers', 'ripe', 'tart', 'vanilla'},\n",
       " {'blackberry',\n",
       "  'bottling',\n",
       "  'dark',\n",
       "  'dried',\n",
       "  'pepper',\n",
       "  'shows',\n",
       "  'through',\n",
       "  'vineyard'})"
      ]
     },
     "execution_count": 400,
     "metadata": {},
     "output_type": "execute_result"
    }
   ],
   "source": [
    "distint_words(frequency_word)"
   ]
  },
  {
   "cell_type": "markdown",
   "metadata": {},
   "source": [
    "## Answer question 3 \n",
    "\n",
    "* Build a text classifier using Naive Bayes "
   ]
  },
  {
   "cell_type": "code",
   "execution_count": null,
   "metadata": {},
   "outputs": [],
   "source": [
    "import nltk\n",
    "from nltk.corpus import stopwords\n",
    "from nltk.stem import WordNetLemmatizer\n",
    "import string\n",
    "import pandas as pd\n",
    "from nltk import pos_tag\n",
    "from nltk.stem import PorterStemmer"
   ]
  },
  {
   "cell_type": "code",
   "execution_count": null,
   "metadata": {},
   "outputs": [],
   "source": [
    "def preprocessing(text):\n",
    "    text2 = \" \".join(\"\".join([\" \" if ch in string.punctuation else ch\n",
    "for ch in text]).split())\n",
    "    tokens = [word for sent in nltk.sent_tokenize(text2) for word in\n",
    "nltk.word_tokenize(sent)]\n",
    "    tokens = [word.lower() for word in tokens]\n",
    "    stopwds = stopwords.words('english')\n",
    "    tokens = [token for token in tokens if token not in stopwds]\n",
    "    tokens = [word for word in tokens if len(word)>=3]\n",
    "    stemmer = PorterStemmer()\n",
    "    tokens = [stemmer.stem(word) for word in tokens]\n",
    "    tagged_corpus = pos_tag(tokens)\n",
    "    Noun_tags = ['NN','NNP','NNPS','NNS']\n",
    "    Verb_tags = ['VB','VBD','VBG','VBN','VBP','VBZ']\n",
    "    lemmatizer = WordNetLemmatizer()\n",
    "    def prat_lemmatize(token,tag):\n",
    "        if tag in Noun_tags:\n",
    "            return lemmatizer.lemmatize(token,'n')\n",
    "        elif tag in Verb_tags:\n",
    "            return lemmatizer.lemmatize(token,'v')\n",
    "        else:\n",
    "            return lemmatizer.lemmatize(token,'n')\n",
    "        pre_proc_text = \" \".join([prat_lemmatize(token,tag) for token,tag in tagged_corpus])\n",
    "    return pre_proc_text"
   ]
  },
  {
   "cell_type": "code",
   "execution_count": 238,
   "metadata": {},
   "outputs": [
    {
     "data": {
      "text/plain": [
       "0    1171\n",
       "1     829\n",
       "Name: class, dtype: int64"
      ]
     },
     "execution_count": 238,
     "metadata": {},
     "output_type": "execute_result"
    }
   ],
   "source": [
    "## choose the first 2000 rows data\n",
    "df_reviews_mini = df_reviews.iloc[:2000]\n",
    "df_reviews_mini['class'].value_counts()"
   ]
  },
  {
   "cell_type": "code",
   "execution_count": 239,
   "metadata": {},
   "outputs": [],
   "source": [
    "# setting the prior, since 0s and 1s have different probability\n",
    "p_0 = 1171/2000\n",
    "p_1 = 829/2000"
   ]
  },
  {
   "cell_type": "code",
   "execution_count": 244,
   "metadata": {},
   "outputs": [],
   "source": [
    "frequency_word_mini = df_reviews_test.groupby(['class']).apply(extract_frequency).unstack(level = 0)\n",
    "frequency_word_mini.fillna(0, inplace = True)"
   ]
  },
  {
   "cell_type": "code",
   "execution_count": 250,
   "metadata": {},
   "outputs": [
    {
     "data": {
      "text/html": [
       "<div>\n",
       "<style scoped>\n",
       "    .dataframe tbody tr th:only-of-type {\n",
       "        vertical-align: middle;\n",
       "    }\n",
       "\n",
       "    .dataframe tbody tr th {\n",
       "        vertical-align: top;\n",
       "    }\n",
       "\n",
       "    .dataframe thead th {\n",
       "        text-align: right;\n",
       "    }\n",
       "</style>\n",
       "<table border=\"1\" class=\"dataframe\">\n",
       "  <thead>\n",
       "    <tr style=\"text-align: right;\">\n",
       "      <th>class</th>\n",
       "      <th>0</th>\n",
       "      <th>1</th>\n",
       "    </tr>\n",
       "  </thead>\n",
       "  <tbody>\n",
       "    <tr>\n",
       "      <th>and</th>\n",
       "      <td>3084.0</td>\n",
       "      <td>2723.0</td>\n",
       "    </tr>\n",
       "    <tr>\n",
       "      <th>of</th>\n",
       "      <td>1641.0</td>\n",
       "      <td>1503.0</td>\n",
       "    </tr>\n",
       "    <tr>\n",
       "      <th>the</th>\n",
       "      <td>1550.0</td>\n",
       "      <td>1385.0</td>\n",
       "    </tr>\n",
       "    <tr>\n",
       "      <th>a</th>\n",
       "      <td>1449.0</td>\n",
       "      <td>1169.0</td>\n",
       "    </tr>\n",
       "    <tr>\n",
       "      <th>with</th>\n",
       "      <td>957.0</td>\n",
       "      <td>824.0</td>\n",
       "    </tr>\n",
       "  </tbody>\n",
       "</table>\n",
       "</div>"
      ],
      "text/plain": [
       "class       0       1\n",
       "and    3084.0  2723.0\n",
       "of     1641.0  1503.0\n",
       "the    1550.0  1385.0\n",
       "a      1449.0  1169.0\n",
       "with    957.0   824.0"
      ]
     },
     "execution_count": 250,
     "metadata": {},
     "output_type": "execute_result"
    }
   ],
   "source": [
    "frequency_word_mini = frequency_word_mini.sort_values(by = 0, ascending = False)\n",
    "frequency_word_mini.head()"
   ]
  },
  {
   "cell_type": "code",
   "execution_count": 276,
   "metadata": {},
   "outputs": [
    {
     "data": {
      "text/plain": [
       "7491"
      ]
     },
     "execution_count": 276,
     "metadata": {},
     "output_type": "execute_result"
    }
   ],
   "source": [
    "frequency_word_mini.shape[0]"
   ]
  },
  {
   "cell_type": "code",
   "execution_count": 277,
   "metadata": {},
   "outputs": [],
   "source": [
    "vocabulary = frequency_word_mini.index\n",
    "vocabulary_class0 = frequency_word_mini.loc[frequency_word_mini[0] != 0].index\n",
    "vocabulary_class1 = frequency_word_mini.loc[frequency_word_mini[1] != 0].index"
   ]
  },
  {
   "cell_type": "code",
   "execution_count": 279,
   "metadata": {},
   "outputs": [
    {
     "data": {
      "text/plain": [
       "5131"
      ]
     },
     "execution_count": 279,
     "metadata": {},
     "output_type": "execute_result"
    }
   ],
   "source": [
    "len(vocabulary_class0)"
   ]
  },
  {
   "cell_type": "code",
   "execution_count": 251,
   "metadata": {},
   "outputs": [
    {
     "data": {
      "text/html": [
       "<div>\n",
       "<style scoped>\n",
       "    .dataframe tbody tr th:only-of-type {\n",
       "        vertical-align: middle;\n",
       "    }\n",
       "\n",
       "    .dataframe tbody tr th {\n",
       "        vertical-align: top;\n",
       "    }\n",
       "\n",
       "    .dataframe thead th {\n",
       "        text-align: right;\n",
       "    }\n",
       "</style>\n",
       "<table border=\"1\" class=\"dataframe\">\n",
       "  <thead>\n",
       "    <tr style=\"text-align: right;\">\n",
       "      <th></th>\n",
       "      <th>Unnamed: 0</th>\n",
       "      <th>country</th>\n",
       "      <th>description</th>\n",
       "      <th>designation</th>\n",
       "      <th>points</th>\n",
       "      <th>price</th>\n",
       "      <th>province</th>\n",
       "      <th>region_1</th>\n",
       "      <th>region_2</th>\n",
       "      <th>taster_name</th>\n",
       "      <th>taster_twitter_handle</th>\n",
       "      <th>title</th>\n",
       "      <th>variety</th>\n",
       "      <th>winery</th>\n",
       "      <th>class</th>\n",
       "    </tr>\n",
       "  </thead>\n",
       "  <tbody>\n",
       "    <tr>\n",
       "      <th>4</th>\n",
       "      <td>4</td>\n",
       "      <td>US</td>\n",
       "      <td>Much like the regular bottling from 2012, this...</td>\n",
       "      <td>Vintner's Reserve Wild Child Block</td>\n",
       "      <td>87</td>\n",
       "      <td>65.0</td>\n",
       "      <td>Oregon</td>\n",
       "      <td>Willamette Valley</td>\n",
       "      <td>Willamette Valley</td>\n",
       "      <td>Paul Gregutt</td>\n",
       "      <td>@paulgwine</td>\n",
       "      <td>Sweet Cheeks 2012 Vintner's Reserve Wild Child...</td>\n",
       "      <td>Pinot Noir</td>\n",
       "      <td>Sweet Cheeks</td>\n",
       "      <td>0</td>\n",
       "    </tr>\n",
       "    <tr>\n",
       "      <th>10</th>\n",
       "      <td>10</td>\n",
       "      <td>US</td>\n",
       "      <td>Soft, supple plum envelopes an oaky structure ...</td>\n",
       "      <td>Mountain Cuvée</td>\n",
       "      <td>87</td>\n",
       "      <td>19.0</td>\n",
       "      <td>California</td>\n",
       "      <td>Napa Valley</td>\n",
       "      <td>Napa</td>\n",
       "      <td>Virginie Boone</td>\n",
       "      <td>@vboone</td>\n",
       "      <td>Kirkland Signature 2011 Mountain Cuvée Caberne...</td>\n",
       "      <td>Cabernet Sauvignon</td>\n",
       "      <td>Kirkland Signature</td>\n",
       "      <td>0</td>\n",
       "    </tr>\n",
       "    <tr>\n",
       "      <th>23</th>\n",
       "      <td>23</td>\n",
       "      <td>US</td>\n",
       "      <td>This wine from the Geneseo district offers aro...</td>\n",
       "      <td>Signature Selection</td>\n",
       "      <td>87</td>\n",
       "      <td>22.0</td>\n",
       "      <td>California</td>\n",
       "      <td>Paso Robles</td>\n",
       "      <td>Central Coast</td>\n",
       "      <td>Matt Kettmann</td>\n",
       "      <td>@mattkettmann</td>\n",
       "      <td>Bianchi 2011 Signature Selection Merlot (Paso ...</td>\n",
       "      <td>Merlot</td>\n",
       "      <td>Bianchi</td>\n",
       "      <td>0</td>\n",
       "    </tr>\n",
       "    <tr>\n",
       "      <th>25</th>\n",
       "      <td>25</td>\n",
       "      <td>US</td>\n",
       "      <td>Oak and earth intermingle around robust aromas...</td>\n",
       "      <td>King Ridge Vineyard</td>\n",
       "      <td>87</td>\n",
       "      <td>69.0</td>\n",
       "      <td>California</td>\n",
       "      <td>Sonoma Coast</td>\n",
       "      <td>Sonoma</td>\n",
       "      <td>Virginie Boone</td>\n",
       "      <td>@vboone</td>\n",
       "      <td>Castello di Amorosa 2011 King Ridge Vineyard P...</td>\n",
       "      <td>Pinot Noir</td>\n",
       "      <td>Castello di Amorosa</td>\n",
       "      <td>0</td>\n",
       "    </tr>\n",
       "    <tr>\n",
       "      <th>35</th>\n",
       "      <td>35</td>\n",
       "      <td>US</td>\n",
       "      <td>As with many of the Erath 2010 vineyard design...</td>\n",
       "      <td>Hyland</td>\n",
       "      <td>86</td>\n",
       "      <td>50.0</td>\n",
       "      <td>Oregon</td>\n",
       "      <td>McMinnville</td>\n",
       "      <td>Willamette Valley</td>\n",
       "      <td>Paul Gregutt</td>\n",
       "      <td>@paulgwine</td>\n",
       "      <td>Erath 2010 Hyland Pinot Noir (McMinnville)</td>\n",
       "      <td>Pinot Noir</td>\n",
       "      <td>Erath</td>\n",
       "      <td>0</td>\n",
       "    </tr>\n",
       "  </tbody>\n",
       "</table>\n",
       "</div>"
      ],
      "text/plain": [
       "    Unnamed: 0 country                                        description  \\\n",
       "4            4      US  Much like the regular bottling from 2012, this...   \n",
       "10          10      US  Soft, supple plum envelopes an oaky structure ...   \n",
       "23          23      US  This wine from the Geneseo district offers aro...   \n",
       "25          25      US  Oak and earth intermingle around robust aromas...   \n",
       "35          35      US  As with many of the Erath 2010 vineyard design...   \n",
       "\n",
       "                           designation  points  price    province  \\\n",
       "4   Vintner's Reserve Wild Child Block      87   65.0      Oregon   \n",
       "10                      Mountain Cuvée      87   19.0  California   \n",
       "23                 Signature Selection      87   22.0  California   \n",
       "25                 King Ridge Vineyard      87   69.0  California   \n",
       "35                              Hyland      86   50.0      Oregon   \n",
       "\n",
       "             region_1           region_2     taster_name  \\\n",
       "4   Willamette Valley  Willamette Valley    Paul Gregutt   \n",
       "10        Napa Valley               Napa  Virginie Boone   \n",
       "23        Paso Robles      Central Coast   Matt Kettmann   \n",
       "25       Sonoma Coast             Sonoma  Virginie Boone   \n",
       "35        McMinnville  Willamette Valley    Paul Gregutt   \n",
       "\n",
       "   taster_twitter_handle                                              title  \\\n",
       "4            @paulgwine   Sweet Cheeks 2012 Vintner's Reserve Wild Child...   \n",
       "10               @vboone  Kirkland Signature 2011 Mountain Cuvée Caberne...   \n",
       "23         @mattkettmann  Bianchi 2011 Signature Selection Merlot (Paso ...   \n",
       "25               @vboone  Castello di Amorosa 2011 King Ridge Vineyard P...   \n",
       "35           @paulgwine          Erath 2010 Hyland Pinot Noir (McMinnville)   \n",
       "\n",
       "               variety               winery  class  \n",
       "4           Pinot Noir         Sweet Cheeks      0  \n",
       "10  Cabernet Sauvignon   Kirkland Signature      0  \n",
       "23              Merlot              Bianchi      0  \n",
       "25          Pinot Noir  Castello di Amorosa      0  \n",
       "35          Pinot Noir                Erath      0  "
      ]
     },
     "execution_count": 251,
     "metadata": {},
     "output_type": "execute_result"
    }
   ],
   "source": [
    "df_reviews_mini.head()"
   ]
  },
  {
   "cell_type": "code",
   "execution_count": 349,
   "metadata": {},
   "outputs": [],
   "source": [
    "X = df_reviews_mini['description']\n",
    "y = df_reviews_mini['class']\n",
    "Xtrain, Xtest, ytrain, ytest = train_test_split(X, y)\n",
    "Xtrain = pd.DataFrame(Xtrain, columns = ['description'])\n",
    "Xtrain.index.name = 'ID'\n",
    "ytrain = pd.DataFrame(ytrain, columns = ['class'])\n",
    "Xtest = pd.DataFrame(Xtest, columns = ['description'])\n",
    "Xtest.index.name = 'ID'\n",
    "ytest = pd.DataFrame(ytest, columns = ['class'])"
   ]
  },
  {
   "cell_type": "code",
   "execution_count": 350,
   "metadata": {},
   "outputs": [],
   "source": [
    "# since it is a binary classification, we first calculate the likelihood function for each word in the vocaubulary\n",
    "def assign_class(df):\n",
    "    df_freq = frequency_word_mini\n",
    "    val = df.values[0][0]\n",
    "    _dic = Counter([word.strip(',.') for word in val.split()])\n",
    "    # get conditional prob for class 1 and 0\n",
    "    P_class0, P_class1 = 1, 1\n",
    "    for key in _dic:\n",
    "        try:\n",
    "            P_class1 *= ((df_freq.loc[key, 1] + 1) / (len(vocabulary_class1) + len(vocabulary))) ** _dic[key]\n",
    "            P_class0 *= ((df_freq.loc[key, 0] + 1) / (len(vocabulary_class0) + len(vocabulary))) ** _dic[key]\n",
    "        except:\n",
    "            continue\n",
    "        \n",
    "    P_class0 *= p_0 \n",
    "    \n",
    "    P_class1 *= p_1\n",
    "    return pd.Series(0, index = ['Class']) if P_class0 > P_class1 else pd.Series(1, index = ['Class'])\n"
   ]
  },
  {
   "cell_type": "code",
   "execution_count": 351,
   "metadata": {},
   "outputs": [
    {
     "data": {
      "text/plain": [
       "0    1101\n",
       "1     399\n",
       "Name: Class, dtype: int64"
      ]
     },
     "execution_count": 351,
     "metadata": {},
     "output_type": "execute_result"
    }
   ],
   "source": [
    "y_train_pred = Xtrain.groupby('ID').apply(assign_class)\n",
    "y_train_pred['Class'].value_counts()"
   ]
  },
  {
   "cell_type": "code",
   "execution_count": 354,
   "metadata": {},
   "outputs": [
    {
     "name": "stdout",
     "output_type": "stream",
     "text": [
      "classification_report_train: \n",
      "              precision    recall  f1-score   support\n",
      "\n",
      "          0       0.59      0.74      0.65       879\n",
      "          1       0.42      0.27      0.33       621\n",
      "\n",
      "avg / total       0.52      0.54      0.52      1500\n",
      "\n"
     ]
    }
   ],
   "source": [
    "print('classification_report_train: \\n',classification_report(ytrain, y_train_pred))"
   ]
  },
  {
   "cell_type": "code",
   "execution_count": 355,
   "metadata": {},
   "outputs": [
    {
     "data": {
      "text/plain": [
       "0    372\n",
       "1    128\n",
       "Name: Class, dtype: int64"
      ]
     },
     "execution_count": 355,
     "metadata": {},
     "output_type": "execute_result"
    }
   ],
   "source": [
    "y_test_pred = Xtest.groupby('ID').apply(assign_class)\n",
    "y_test_pred['Class'].value_counts()"
   ]
  },
  {
   "cell_type": "code",
   "execution_count": 356,
   "metadata": {},
   "outputs": [
    {
     "name": "stdout",
     "output_type": "stream",
     "text": [
      "classification_report_test: \n",
      "              precision    recall  f1-score   support\n",
      "\n",
      "          0       0.60      0.76      0.67       292\n",
      "          1       0.46      0.28      0.35       208\n",
      "\n",
      "avg / total       0.54      0.56      0.54       500\n",
      "\n"
     ]
    }
   ],
   "source": [
    "print('classification_report_test: \\n',classification_report(ytest, y_test_pred))"
   ]
  },
  {
   "cell_type": "markdown",
   "metadata": {},
   "source": [
    "The low precision and recall might due to the fact that I haven't removed any stop words and stemmings, if I have more time, I will implement them on both the train and test data."
   ]
  },
  {
   "cell_type": "markdown",
   "metadata": {},
   "source": [
    "# Answer question 4\n",
    "* derive TFIDF matrix of wine reviewers given any taster and further compute similarity matrix"
   ]
  },
  {
   "cell_type": "code",
   "execution_count": 357,
   "metadata": {},
   "outputs": [
    {
     "data": {
      "text/html": [
       "<div>\n",
       "<style scoped>\n",
       "    .dataframe tbody tr th:only-of-type {\n",
       "        vertical-align: middle;\n",
       "    }\n",
       "\n",
       "    .dataframe tbody tr th {\n",
       "        vertical-align: top;\n",
       "    }\n",
       "\n",
       "    .dataframe thead th {\n",
       "        text-align: right;\n",
       "    }\n",
       "</style>\n",
       "<table border=\"1\" class=\"dataframe\">\n",
       "  <thead>\n",
       "    <tr style=\"text-align: right;\">\n",
       "      <th></th>\n",
       "      <th>Unnamed: 0</th>\n",
       "      <th>country</th>\n",
       "      <th>description</th>\n",
       "      <th>designation</th>\n",
       "      <th>points</th>\n",
       "      <th>price</th>\n",
       "      <th>province</th>\n",
       "      <th>region_1</th>\n",
       "      <th>region_2</th>\n",
       "      <th>taster_name</th>\n",
       "      <th>taster_twitter_handle</th>\n",
       "      <th>title</th>\n",
       "      <th>variety</th>\n",
       "      <th>winery</th>\n",
       "      <th>class</th>\n",
       "    </tr>\n",
       "  </thead>\n",
       "  <tbody>\n",
       "    <tr>\n",
       "      <th>4</th>\n",
       "      <td>4</td>\n",
       "      <td>US</td>\n",
       "      <td>Much like the regular bottling from 2012, this...</td>\n",
       "      <td>Vintner's Reserve Wild Child Block</td>\n",
       "      <td>87</td>\n",
       "      <td>65.0</td>\n",
       "      <td>Oregon</td>\n",
       "      <td>Willamette Valley</td>\n",
       "      <td>Willamette Valley</td>\n",
       "      <td>Paul Gregutt</td>\n",
       "      <td>@paulgwine</td>\n",
       "      <td>Sweet Cheeks 2012 Vintner's Reserve Wild Child...</td>\n",
       "      <td>Pinot Noir</td>\n",
       "      <td>Sweet Cheeks</td>\n",
       "      <td>0</td>\n",
       "    </tr>\n",
       "    <tr>\n",
       "      <th>10</th>\n",
       "      <td>10</td>\n",
       "      <td>US</td>\n",
       "      <td>Soft, supple plum envelopes an oaky structure ...</td>\n",
       "      <td>Mountain Cuvée</td>\n",
       "      <td>87</td>\n",
       "      <td>19.0</td>\n",
       "      <td>California</td>\n",
       "      <td>Napa Valley</td>\n",
       "      <td>Napa</td>\n",
       "      <td>Virginie Boone</td>\n",
       "      <td>@vboone</td>\n",
       "      <td>Kirkland Signature 2011 Mountain Cuvée Caberne...</td>\n",
       "      <td>Cabernet Sauvignon</td>\n",
       "      <td>Kirkland Signature</td>\n",
       "      <td>0</td>\n",
       "    </tr>\n",
       "    <tr>\n",
       "      <th>23</th>\n",
       "      <td>23</td>\n",
       "      <td>US</td>\n",
       "      <td>This wine from the Geneseo district offers aro...</td>\n",
       "      <td>Signature Selection</td>\n",
       "      <td>87</td>\n",
       "      <td>22.0</td>\n",
       "      <td>California</td>\n",
       "      <td>Paso Robles</td>\n",
       "      <td>Central Coast</td>\n",
       "      <td>Matt Kettmann</td>\n",
       "      <td>@mattkettmann</td>\n",
       "      <td>Bianchi 2011 Signature Selection Merlot (Paso ...</td>\n",
       "      <td>Merlot</td>\n",
       "      <td>Bianchi</td>\n",
       "      <td>0</td>\n",
       "    </tr>\n",
       "    <tr>\n",
       "      <th>25</th>\n",
       "      <td>25</td>\n",
       "      <td>US</td>\n",
       "      <td>Oak and earth intermingle around robust aromas...</td>\n",
       "      <td>King Ridge Vineyard</td>\n",
       "      <td>87</td>\n",
       "      <td>69.0</td>\n",
       "      <td>California</td>\n",
       "      <td>Sonoma Coast</td>\n",
       "      <td>Sonoma</td>\n",
       "      <td>Virginie Boone</td>\n",
       "      <td>@vboone</td>\n",
       "      <td>Castello di Amorosa 2011 King Ridge Vineyard P...</td>\n",
       "      <td>Pinot Noir</td>\n",
       "      <td>Castello di Amorosa</td>\n",
       "      <td>0</td>\n",
       "    </tr>\n",
       "    <tr>\n",
       "      <th>35</th>\n",
       "      <td>35</td>\n",
       "      <td>US</td>\n",
       "      <td>As with many of the Erath 2010 vineyard design...</td>\n",
       "      <td>Hyland</td>\n",
       "      <td>86</td>\n",
       "      <td>50.0</td>\n",
       "      <td>Oregon</td>\n",
       "      <td>McMinnville</td>\n",
       "      <td>Willamette Valley</td>\n",
       "      <td>Paul Gregutt</td>\n",
       "      <td>@paulgwine</td>\n",
       "      <td>Erath 2010 Hyland Pinot Noir (McMinnville)</td>\n",
       "      <td>Pinot Noir</td>\n",
       "      <td>Erath</td>\n",
       "      <td>0</td>\n",
       "    </tr>\n",
       "  </tbody>\n",
       "</table>\n",
       "</div>"
      ],
      "text/plain": [
       "    Unnamed: 0 country                                        description  \\\n",
       "4            4      US  Much like the regular bottling from 2012, this...   \n",
       "10          10      US  Soft, supple plum envelopes an oaky structure ...   \n",
       "23          23      US  This wine from the Geneseo district offers aro...   \n",
       "25          25      US  Oak and earth intermingle around robust aromas...   \n",
       "35          35      US  As with many of the Erath 2010 vineyard design...   \n",
       "\n",
       "                           designation  points  price    province  \\\n",
       "4   Vintner's Reserve Wild Child Block      87   65.0      Oregon   \n",
       "10                      Mountain Cuvée      87   19.0  California   \n",
       "23                 Signature Selection      87   22.0  California   \n",
       "25                 King Ridge Vineyard      87   69.0  California   \n",
       "35                              Hyland      86   50.0      Oregon   \n",
       "\n",
       "             region_1           region_2     taster_name  \\\n",
       "4   Willamette Valley  Willamette Valley    Paul Gregutt   \n",
       "10        Napa Valley               Napa  Virginie Boone   \n",
       "23        Paso Robles      Central Coast   Matt Kettmann   \n",
       "25       Sonoma Coast             Sonoma  Virginie Boone   \n",
       "35        McMinnville  Willamette Valley    Paul Gregutt   \n",
       "\n",
       "   taster_twitter_handle                                              title  \\\n",
       "4            @paulgwine   Sweet Cheeks 2012 Vintner's Reserve Wild Child...   \n",
       "10               @vboone  Kirkland Signature 2011 Mountain Cuvée Caberne...   \n",
       "23         @mattkettmann  Bianchi 2011 Signature Selection Merlot (Paso ...   \n",
       "25               @vboone  Castello di Amorosa 2011 King Ridge Vineyard P...   \n",
       "35           @paulgwine          Erath 2010 Hyland Pinot Noir (McMinnville)   \n",
       "\n",
       "               variety               winery  class  \n",
       "4           Pinot Noir         Sweet Cheeks      0  \n",
       "10  Cabernet Sauvignon   Kirkland Signature      0  \n",
       "23              Merlot              Bianchi      0  \n",
       "25          Pinot Noir  Castello di Amorosa      0  \n",
       "35          Pinot Noir                Erath      0  "
      ]
     },
     "execution_count": 357,
     "metadata": {},
     "output_type": "execute_result"
    }
   ],
   "source": [
    "df_reviews_mini.head()"
   ]
  },
  {
   "cell_type": "code",
   "execution_count": 379,
   "metadata": {},
   "outputs": [],
   "source": [
    "# analyze the TFIDF of words for each description\n",
    "def extract_TFIDF(df):   \n",
    "    #extract = Counter([re.sub(r'[^\\w]', ' ', c) for c in df['description'].sum().split()])\n",
    "    extract = Counter([c.strip(\"',. \").replace(\" \" \" \", \"\") for c in df['description'].sum().strip(\" ' \").split()])\n",
    "    n = sum(extract.values())\n",
    "    # calculate the inverse frequency\n",
    "    dic = {}\n",
    "    for key in extract:\n",
    "        dic[key] = np.log(n/ extract[key])\n",
    "    \n",
    "    return pd.Series(dic)"
   ]
  },
  {
   "cell_type": "code",
   "execution_count": 380,
   "metadata": {},
   "outputs": [
    {
     "data": {
      "text/html": [
       "<div>\n",
       "<style scoped>\n",
       "    .dataframe tbody tr th:only-of-type {\n",
       "        vertical-align: middle;\n",
       "    }\n",
       "\n",
       "    .dataframe tbody tr th {\n",
       "        vertical-align: top;\n",
       "    }\n",
       "\n",
       "    .dataframe thead th {\n",
       "        text-align: right;\n",
       "    }\n",
       "</style>\n",
       "<table border=\"1\" class=\"dataframe\">\n",
       "  <thead>\n",
       "    <tr style=\"text-align: right;\">\n",
       "      <th>taster_name</th>\n",
       "      <th>Jim Gordon</th>\n",
       "      <th>Joe Czerwinski</th>\n",
       "      <th>Matt Kettmann</th>\n",
       "      <th>Michael Schachner</th>\n",
       "      <th>Paul Gregutt</th>\n",
       "      <th>Roger Voss</th>\n",
       "      <th>Sean P. Sullivan</th>\n",
       "      <th>Susan Kostrzewa</th>\n",
       "      <th>Virginie Boone</th>\n",
       "    </tr>\n",
       "  </thead>\n",
       "  <tbody>\n",
       "    <tr>\n",
       "      <th></th>\n",
       "      <td>0.0</td>\n",
       "      <td>0.000000</td>\n",
       "      <td>0.000000</td>\n",
       "      <td>0.0</td>\n",
       "      <td>0.0000</td>\n",
       "      <td>0.0</td>\n",
       "      <td>9.299907</td>\n",
       "      <td>0.0</td>\n",
       "      <td>0.000000</td>\n",
       "    </tr>\n",
       "    <tr>\n",
       "      <th>\"dry,\"</th>\n",
       "      <td>0.0</td>\n",
       "      <td>5.758902</td>\n",
       "      <td>0.000000</td>\n",
       "      <td>0.0</td>\n",
       "      <td>0.0000</td>\n",
       "      <td>0.0</td>\n",
       "      <td>0.000000</td>\n",
       "      <td>0.0</td>\n",
       "      <td>0.000000</td>\n",
       "    </tr>\n",
       "    <tr>\n",
       "      <th>$12</th>\n",
       "      <td>0.0</td>\n",
       "      <td>0.000000</td>\n",
       "      <td>0.000000</td>\n",
       "      <td>0.0</td>\n",
       "      <td>0.0000</td>\n",
       "      <td>0.0</td>\n",
       "      <td>0.000000</td>\n",
       "      <td>0.0</td>\n",
       "      <td>10.088846</td>\n",
       "    </tr>\n",
       "    <tr>\n",
       "      <th>$20</th>\n",
       "      <td>0.0</td>\n",
       "      <td>0.000000</td>\n",
       "      <td>0.000000</td>\n",
       "      <td>0.0</td>\n",
       "      <td>9.3299</td>\n",
       "      <td>0.0</td>\n",
       "      <td>0.000000</td>\n",
       "      <td>0.0</td>\n",
       "      <td>0.000000</td>\n",
       "    </tr>\n",
       "    <tr>\n",
       "      <th>$25</th>\n",
       "      <td>0.0</td>\n",
       "      <td>0.000000</td>\n",
       "      <td>9.903188</td>\n",
       "      <td>0.0</td>\n",
       "      <td>0.0000</td>\n",
       "      <td>0.0</td>\n",
       "      <td>0.000000</td>\n",
       "      <td>0.0</td>\n",
       "      <td>0.000000</td>\n",
       "    </tr>\n",
       "  </tbody>\n",
       "</table>\n",
       "</div>"
      ],
      "text/plain": [
       "taster_name  Jim Gordon  Joe Czerwinski  Matt Kettmann  Michael Schachner  \\\n",
       "                    0.0        0.000000       0.000000                0.0   \n",
       "\"dry,\"              0.0        5.758902       0.000000                0.0   \n",
       "$12                 0.0        0.000000       0.000000                0.0   \n",
       "$20                 0.0        0.000000       0.000000                0.0   \n",
       "$25                 0.0        0.000000       9.903188                0.0   \n",
       "\n",
       "taster_name  Paul Gregutt  Roger Voss  Sean P. Sullivan  Susan Kostrzewa  \\\n",
       "                   0.0000         0.0          9.299907              0.0   \n",
       "\"dry,\"             0.0000         0.0          0.000000              0.0   \n",
       "$12                0.0000         0.0          0.000000              0.0   \n",
       "$20                9.3299         0.0          0.000000              0.0   \n",
       "$25                0.0000         0.0          0.000000              0.0   \n",
       "\n",
       "taster_name  Virginie Boone  \n",
       "                   0.000000  \n",
       "\"dry,\"             0.000000  \n",
       "$12               10.088846  \n",
       "$20                0.000000  \n",
       "$25                0.000000  "
      ]
     },
     "execution_count": 380,
     "metadata": {},
     "output_type": "execute_result"
    }
   ],
   "source": [
    "# IFIDF: inverse frequency of terms\n",
    "grp_by_taster = df_reviews_mini.groupby('taster_name').apply(extract_TFIDF).unstack(level = 0).fillna(0)\n",
    "grp_by_taster.head()"
   ]
  },
  {
   "cell_type": "code",
   "execution_count": 385,
   "metadata": {},
   "outputs": [],
   "source": [
    "# build similarity matrix\n",
    "A = normalize(grp_by_taster)\n",
    "similarity_matrix = A.T.dot(A)\n",
    "np.fill_diagonal(similarity_matrix, 0)"
   ]
  },
  {
   "cell_type": "code",
   "execution_count": 388,
   "metadata": {},
   "outputs": [
    {
     "data": {
      "text/html": [
       "<div>\n",
       "<style scoped>\n",
       "    .dataframe tbody tr th:only-of-type {\n",
       "        vertical-align: middle;\n",
       "    }\n",
       "\n",
       "    .dataframe tbody tr th {\n",
       "        vertical-align: top;\n",
       "    }\n",
       "\n",
       "    .dataframe thead th {\n",
       "        text-align: right;\n",
       "    }\n",
       "</style>\n",
       "<table border=\"1\" class=\"dataframe\">\n",
       "  <thead>\n",
       "    <tr style=\"text-align: right;\">\n",
       "      <th>taster_name</th>\n",
       "      <th>Jim Gordon</th>\n",
       "      <th>Joe Czerwinski</th>\n",
       "      <th>Matt Kettmann</th>\n",
       "      <th>Michael Schachner</th>\n",
       "      <th>Paul Gregutt</th>\n",
       "      <th>Roger Voss</th>\n",
       "      <th>Sean P. Sullivan</th>\n",
       "      <th>Susan Kostrzewa</th>\n",
       "      <th>Virginie Boone</th>\n",
       "    </tr>\n",
       "    <tr>\n",
       "      <th>taster_name</th>\n",
       "      <th></th>\n",
       "      <th></th>\n",
       "      <th></th>\n",
       "      <th></th>\n",
       "      <th></th>\n",
       "      <th></th>\n",
       "      <th></th>\n",
       "      <th></th>\n",
       "      <th></th>\n",
       "    </tr>\n",
       "  </thead>\n",
       "  <tbody>\n",
       "    <tr>\n",
       "      <th>Jim Gordon</th>\n",
       "      <td>0.000000</td>\n",
       "      <td>17.200131</td>\n",
       "      <td>180.847054</td>\n",
       "      <td>15.393099</td>\n",
       "      <td>215.180184</td>\n",
       "      <td>2.001555</td>\n",
       "      <td>122.863583</td>\n",
       "      <td>9.964144</td>\n",
       "      <td>207.674775</td>\n",
       "    </tr>\n",
       "    <tr>\n",
       "      <th>Joe Czerwinski</th>\n",
       "      <td>17.200131</td>\n",
       "      <td>0.000000</td>\n",
       "      <td>22.453870</td>\n",
       "      <td>6.379032</td>\n",
       "      <td>27.393243</td>\n",
       "      <td>1.396979</td>\n",
       "      <td>16.667886</td>\n",
       "      <td>3.840653</td>\n",
       "      <td>21.176357</td>\n",
       "    </tr>\n",
       "    <tr>\n",
       "      <th>Matt Kettmann</th>\n",
       "      <td>180.847054</td>\n",
       "      <td>22.453870</td>\n",
       "      <td>0.000000</td>\n",
       "      <td>21.730015</td>\n",
       "      <td>375.441039</td>\n",
       "      <td>2.937266</td>\n",
       "      <td>204.398779</td>\n",
       "      <td>11.617836</td>\n",
       "      <td>404.497218</td>\n",
       "    </tr>\n",
       "    <tr>\n",
       "      <th>Michael Schachner</th>\n",
       "      <td>15.393099</td>\n",
       "      <td>6.379032</td>\n",
       "      <td>21.730015</td>\n",
       "      <td>0.000000</td>\n",
       "      <td>25.536940</td>\n",
       "      <td>1.124541</td>\n",
       "      <td>16.742858</td>\n",
       "      <td>3.146881</td>\n",
       "      <td>24.789757</td>\n",
       "    </tr>\n",
       "    <tr>\n",
       "      <th>Paul Gregutt</th>\n",
       "      <td>215.180184</td>\n",
       "      <td>27.393243</td>\n",
       "      <td>375.441039</td>\n",
       "      <td>25.536940</td>\n",
       "      <td>0.000000</td>\n",
       "      <td>2.745645</td>\n",
       "      <td>248.903781</td>\n",
       "      <td>13.895070</td>\n",
       "      <td>465.042123</td>\n",
       "    </tr>\n",
       "    <tr>\n",
       "      <th>Roger Voss</th>\n",
       "      <td>2.001555</td>\n",
       "      <td>1.396979</td>\n",
       "      <td>2.937266</td>\n",
       "      <td>1.124541</td>\n",
       "      <td>2.745645</td>\n",
       "      <td>0.000000</td>\n",
       "      <td>2.504328</td>\n",
       "      <td>0.915540</td>\n",
       "      <td>2.921999</td>\n",
       "    </tr>\n",
       "    <tr>\n",
       "      <th>Sean P. Sullivan</th>\n",
       "      <td>122.863583</td>\n",
       "      <td>16.667886</td>\n",
       "      <td>204.398779</td>\n",
       "      <td>16.742858</td>\n",
       "      <td>248.903781</td>\n",
       "      <td>2.504328</td>\n",
       "      <td>0.000000</td>\n",
       "      <td>10.069487</td>\n",
       "      <td>239.092529</td>\n",
       "    </tr>\n",
       "    <tr>\n",
       "      <th>Susan Kostrzewa</th>\n",
       "      <td>9.964144</td>\n",
       "      <td>3.840653</td>\n",
       "      <td>11.617836</td>\n",
       "      <td>3.146881</td>\n",
       "      <td>13.895070</td>\n",
       "      <td>0.915540</td>\n",
       "      <td>10.069487</td>\n",
       "      <td>0.000000</td>\n",
       "      <td>13.887551</td>\n",
       "    </tr>\n",
       "    <tr>\n",
       "      <th>Virginie Boone</th>\n",
       "      <td>207.674775</td>\n",
       "      <td>21.176357</td>\n",
       "      <td>404.497218</td>\n",
       "      <td>24.789757</td>\n",
       "      <td>465.042123</td>\n",
       "      <td>2.921999</td>\n",
       "      <td>239.092529</td>\n",
       "      <td>13.887551</td>\n",
       "      <td>0.000000</td>\n",
       "    </tr>\n",
       "  </tbody>\n",
       "</table>\n",
       "</div>"
      ],
      "text/plain": [
       "taster_name        Jim Gordon  Joe Czerwinski  Matt Kettmann  \\\n",
       "taster_name                                                    \n",
       "Jim Gordon           0.000000       17.200131     180.847054   \n",
       "Joe Czerwinski      17.200131        0.000000      22.453870   \n",
       "Matt Kettmann      180.847054       22.453870       0.000000   \n",
       "Michael Schachner   15.393099        6.379032      21.730015   \n",
       "Paul Gregutt       215.180184       27.393243     375.441039   \n",
       "Roger Voss           2.001555        1.396979       2.937266   \n",
       "Sean P. Sullivan   122.863583       16.667886     204.398779   \n",
       "Susan Kostrzewa      9.964144        3.840653      11.617836   \n",
       "Virginie Boone     207.674775       21.176357     404.497218   \n",
       "\n",
       "taster_name        Michael Schachner  Paul Gregutt  Roger Voss  \\\n",
       "taster_name                                                      \n",
       "Jim Gordon                 15.393099    215.180184    2.001555   \n",
       "Joe Czerwinski              6.379032     27.393243    1.396979   \n",
       "Matt Kettmann              21.730015    375.441039    2.937266   \n",
       "Michael Schachner           0.000000     25.536940    1.124541   \n",
       "Paul Gregutt               25.536940      0.000000    2.745645   \n",
       "Roger Voss                  1.124541      2.745645    0.000000   \n",
       "Sean P. Sullivan           16.742858    248.903781    2.504328   \n",
       "Susan Kostrzewa             3.146881     13.895070    0.915540   \n",
       "Virginie Boone             24.789757    465.042123    2.921999   \n",
       "\n",
       "taster_name        Sean P. Sullivan  Susan Kostrzewa  Virginie Boone  \n",
       "taster_name                                                           \n",
       "Jim Gordon               122.863583         9.964144      207.674775  \n",
       "Joe Czerwinski            16.667886         3.840653       21.176357  \n",
       "Matt Kettmann            204.398779        11.617836      404.497218  \n",
       "Michael Schachner         16.742858         3.146881       24.789757  \n",
       "Paul Gregutt             248.903781        13.895070      465.042123  \n",
       "Roger Voss                 2.504328         0.915540        2.921999  \n",
       "Sean P. Sullivan           0.000000        10.069487      239.092529  \n",
       "Susan Kostrzewa           10.069487         0.000000       13.887551  \n",
       "Virginie Boone           239.092529        13.887551        0.000000  "
      ]
     },
     "execution_count": 388,
     "metadata": {},
     "output_type": "execute_result"
    }
   ],
   "source": [
    "similarity_matrix = pd.DataFrame(similarity_matrix, columns = grp_by_taster.columns, index = grp_by_taster.columns)\n",
    "similarity_matrix"
   ]
  },
  {
   "cell_type": "markdown",
   "metadata": {},
   "source": [
    "# Answer question 5\n",
    "* identify the taster that has the most similar style of wine reviews"
   ]
  },
  {
   "cell_type": "code",
   "execution_count": 394,
   "metadata": {},
   "outputs": [],
   "source": [
    "def find_max(df):\n",
    "    return df.idxmax()"
   ]
  },
  {
   "cell_type": "code",
   "execution_count": 395,
   "metadata": {},
   "outputs": [
    {
     "data": {
      "text/plain": [
       "taster_name\n",
       "Jim Gordon             Paul Gregutt\n",
       "Joe Czerwinski         Paul Gregutt\n",
       "Matt Kettmann        Virginie Boone\n",
       "Michael Schachner      Paul Gregutt\n",
       "Paul Gregutt         Virginie Boone\n",
       "Roger Voss            Matt Kettmann\n",
       "Sean P. Sullivan       Paul Gregutt\n",
       "Susan Kostrzewa        Paul Gregutt\n",
       "Virginie Boone         Paul Gregutt\n",
       "dtype: object"
      ]
     },
     "execution_count": 395,
     "metadata": {},
     "output_type": "execute_result"
    }
   ],
   "source": [
    "similarity_matrix.apply(find_max, axis = 0)"
   ]
  },
  {
   "cell_type": "code",
   "execution_count": null,
   "metadata": {},
   "outputs": [],
   "source": []
  }
 ],
 "metadata": {
  "kernelspec": {
   "display_name": "Python 3",
   "language": "python",
   "name": "python3"
  },
  "language_info": {
   "codemirror_mode": {
    "name": "ipython",
    "version": 3
   },
   "file_extension": ".py",
   "mimetype": "text/x-python",
   "name": "python",
   "nbconvert_exporter": "python",
   "pygments_lexer": "ipython3",
   "version": "3.7.0"
  }
 },
 "nbformat": 4,
 "nbformat_minor": 2
}
